{
 "cells": [
  {
   "cell_type": "code",
   "execution_count": 14,
   "metadata": {},
   "outputs": [],
   "source": [
    "import numpy as np\n",
    "\n",
    "def AND(x1, x2):\n",
    "    x = np.array([x1, x2])\n",
    "    w = np.array([0.5, 0.5])\n",
    "    b = -0.7\n",
    "    tmp = np.sum(x * w) + b\n",
    "    if tmp <= 0:\n",
    "        return 0\n",
    "    else:\n",
    "        return 1\n",
    "    \n",
    "def NAND(x1, x2):\n",
    "    x = np.array([x1, x2])\n",
    "    w = np.array([-0.5, -0.5])\n",
    "    b = 0.7\n",
    "    tmp = np.sum(x * w) + b\n",
    "    if tmp <= 0:\n",
    "        return 0\n",
    "    else:\n",
    "        return 1\n",
    "    \n",
    "def OR(x1, x2):\n",
    "    x = np.array([x1, x2])\n",
    "    w = np.array([0.5, 0.5])\n",
    "    b = -0.2\n",
    "    tmp = np.sum(x * w) + b\n",
    "    if tmp <= 0:\n",
    "        return 0\n",
    "    else:\n",
    "        return 1"
   ]
  },
  {
   "cell_type": "code",
   "execution_count": 19,
   "metadata": {},
   "outputs": [
    {
     "name": "stdout",
     "output_type": "stream",
     "text": [
      "AND, NAND, OR\n",
      "x1:0 x2:0 y:0\tx1:0 x2:1 y:0\tx1:1 x2:0 y:0\tx1:1 x2:1 y:1\t\n",
      "x1:0 x2:0 y:1\tx1:0 x2:1 y:1\tx1:1 x2:0 y:1\tx1:1 x2:1 y:0\t\n",
      "x1:0 x2:0 y:0\tx1:0 x2:1 y:1\tx1:1 x2:0 y:1\tx1:1 x2:1 y:1\t\n"
     ]
    }
   ],
   "source": [
    "functions = [AND, NAND, OR]\n",
    "print(\"AND, NAND, OR\")\n",
    "for func in functions:\n",
    "    for i in range(2):\n",
    "        for j in range(2):\n",
    "            print(\"x1:{} x2:{} y:{}\".format(i, j, func(i, j)), end=\"\\t\")\n",
    "    print()"
   ]
  },
  {
   "cell_type": "code",
   "execution_count": 20,
   "metadata": {},
   "outputs": [],
   "source": [
    "def XOR(x1, x2):\n",
    "    s1, s2 = NAND(x1, x2), OR(x1, x2)\n",
    "    y = AND(s1, s2)\n",
    "    return y"
   ]
  },
  {
   "cell_type": "code",
   "execution_count": 27,
   "metadata": {},
   "outputs": [
    {
     "name": "stdout",
     "output_type": "stream",
     "text": [
      "XOR\n",
      "x1:0 x2:0 y:0\tx1:0 x2:1 y:1\tx1:1 x2:0 y:1\tx1:1 x2:1 y:0\t"
     ]
    }
   ],
   "source": [
    "print(\"XOR\")\n",
    "for i in range(2):\n",
    "    for j in range(2):\n",
    "        print(\"x1:{} x2:{} y:{}\".format(i, j, XOR(i, j)), end=\"\\t\")"
   ]
  },
  {
   "cell_type": "code",
   "execution_count": null,
   "metadata": {},
   "outputs": [],
   "source": []
  }
 ],
 "metadata": {
  "kernelspec": {
   "display_name": "Python 3",
   "language": "python",
   "name": "python3"
  },
  "language_info": {
   "codemirror_mode": {
    "name": "ipython",
    "version": 3
   },
   "file_extension": ".py",
   "mimetype": "text/x-python",
   "name": "python",
   "nbconvert_exporter": "python",
   "pygments_lexer": "ipython3",
   "version": "3.7.6"
  }
 },
 "nbformat": 4,
 "nbformat_minor": 4
}
